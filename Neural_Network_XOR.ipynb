{
 "cells": [
  {
   "cell_type": "code",
   "execution_count": 20,
   "metadata": {},
   "outputs": [],
   "source": [
    "import numpy as np\n",
    "import matplotlib.pyplot as plt"
   ]
  },
  {
   "cell_type": "markdown",
   "metadata": {},
   "source": [
    "This code is a that predicts the xor function using neural networks\n",
    "Neural Network is a machine learning model were it learns from the given training examples and finally predicting the test examples.\n",
    "This code uses logistic regression technique to predict the output. The neural network is a very basic one as it doesnot contain any hidden layers. It just has an input layer and an output layer. Think the structure of the neural network like of a net where is has lots of nodes from which many strings are attached to the other nodes. In this specific program I have only inserted 3 nodes of which 2 are of inputs and one of the output.\n",
    "A structure has  main componets:-\n",
    "Initialization - randomly initials weights(w1) and biases(b1)\n",
    "forward propagation  - Going forward of the network \n",
    "cost compution - tell us on how to get the best weights and biases\n",
    "backward propagation - to get the gradients of weights and biases which help in the updating of the parameters\n",
    "update parameters - to update weights and biases to get the best predicted result"
   ]
  },
  {
   "cell_type": "code",
   "execution_count": 21,
   "metadata": {},
   "outputs": [],
   "source": [
    "def sigmoid(z):\n",
    "    s = 1/(1+np.exp(-z))\n",
    "    return s"
   ]
  },
  {
   "cell_type": "code",
   "execution_count": 22,
   "metadata": {},
   "outputs": [],
   "source": [
    "def intialize_with_zeros():\n",
    "    w1=np.random.randn(1,2)\n",
    "    b1=0\n",
    "    return w1,b1"
   ]
  },
  {
   "cell_type": "code",
   "execution_count": 23,
   "metadata": {},
   "outputs": [],
   "source": [
    "def propagate(w1,b1,X,Y):\n",
    "    m=X.shape[1]\n",
    "    #Forward Propagation\n",
    "    z1=np.dot(w1,X)+b1\n",
    "    A1=sigmoid(z1)\n",
    "    #cost compution\n",
    "    cost = -1*(np.sum(np.dot(Y,(np.log(A1).T))+np.dot(1-Y,(np.log(1-A1).T)),axis=1,keepdims=True))/m \n",
    "    #this is the specific cost function in logistic regression\n",
    "    \n",
    "    #Backward Propagation\n",
    "    dw1 = (np.dot(X,(A1-Y).T)/m ).T   \n",
    "    db1 = ((np.sum(A1-Y))/m).T\n",
    "    \n",
    "    \n",
    "    \n",
    "    assert(dw1.shape == w1.shape)\n",
    "    assert(db1.dtype == float)\n",
    "    cost = np.squeeze(cost)\n",
    "    assert(cost.shape == ())\n",
    "    grads = {\"dw1\": dw1,\n",
    "             \"db1\": db1}\n",
    "    \n",
    "    return grads, cost"
   ]
  },
  {
   "cell_type": "code",
   "execution_count": 24,
   "metadata": {},
   "outputs": [],
   "source": [
    "def optimize(w1,b1,X,Y,num_iterations,learning_rate,print_cost):\n",
    "    costs = []\n",
    "    \n",
    "    for i in range(num_iterations):\n",
    "        \n",
    "        \n",
    "        \n",
    "        grads, cost = propagate(w1, b1, X, Y)\n",
    "        \n",
    "        dw1 = grads[\"dw1\"]\n",
    "        db1 = grads[\"db1\"]\n",
    "        #Updating the parameters\n",
    "        w1 = w1-learning_rate*dw1\n",
    "        b1 = b1-learning_rate*db1\n",
    "        \n",
    "        if i % 100 == 0:\n",
    "            costs.append(cost)\n",
    "        \n",
    "     \n",
    "        \n",
    "        \n",
    "        if print_cost and i % 100 == 0:\n",
    "            print (\"Cost after iteration %i: %f\" %(i, cost))\n",
    "    \n",
    "      \n",
    "    \n",
    "    params = {\"w1\": w1,\n",
    "              \"b1\": b1}\n",
    "    \n",
    "    grads = {\"dw1\": dw1,\n",
    "             \"db1\": db1}\n",
    "    \n",
    "    return params, grads, costs\n",
    "    "
   ]
  },
  {
   "cell_type": "code",
   "execution_count": 25,
   "metadata": {},
   "outputs": [],
   "source": [
    "def predict(w1,b1,X):\n",
    "    m = X.shape[1]\n",
    "    Y_prediction = np.zeros((1,m))\n",
    "   \n",
    "    A1 = sigmoid(np.dot(w1,X)+b1)\n",
    "    \n",
    "    \n",
    "    for i in range(A1.shape[1]):\n",
    "        \n",
    "       \n",
    "        if(A1[0,i]<=0.5):\n",
    "            Y_prediction[0,i]=0\n",
    "        elif(A1[0,i]>0.5):\n",
    "            Y_prediction[0,i]=1\n",
    "        \n",
    "        \n",
    "        \n",
    "    \n",
    "    assert(Y_prediction.shape == (1, m))\n",
    "    \n",
    "    return Y_prediction"
   ]
  },
  {
   "cell_type": "code",
   "execution_count": 26,
   "metadata": {},
   "outputs": [
    {
     "name": "stdout",
     "output_type": "stream",
     "text": [
      "Cost after iteration 0: 0.674152\n",
      "Cost after iteration 100: 0.672013\n",
      "Cost after iteration 200: 0.669961\n",
      "Cost after iteration 300: 0.667992\n",
      "Cost after iteration 400: 0.666103\n",
      "Cost after iteration 500: 0.664290\n",
      "Cost after iteration 600: 0.662550\n",
      "Cost after iteration 700: 0.660880\n",
      "Cost after iteration 800: 0.659276\n",
      "Cost after iteration 900: 0.657736\n",
      "Cost after iteration 1000: 0.656257\n",
      "Cost after iteration 1100: 0.654836\n",
      "Cost after iteration 1200: 0.653471\n",
      "Cost after iteration 1300: 0.652160\n",
      "Cost after iteration 1400: 0.650901\n",
      "Cost after iteration 1500: 0.649690\n",
      "Cost after iteration 1600: 0.648527\n",
      "Cost after iteration 1700: 0.647408\n",
      "Cost after iteration 1800: 0.646333\n",
      "Cost after iteration 1900: 0.645300\n",
      "train accuracy: 87.5 %\n",
      "test accuracy: 66.66666666666667 %\n",
      "[[0. 1. 1. 1. 0. 1. 1. 0.]]\n",
      "[[0. 1. 1.]]\n"
     ]
    },
    {
     "data": {
      "text/plain": [
       "[<matplotlib.lines.Line2D at 0x7fd5ac5e5400>]"
      ]
     },
     "execution_count": 26,
     "metadata": {},
     "output_type": "execute_result"
    },
    {
     "data": {
      "image/png": "[encoded data removed]",
      "text/plain": [
       "<Figure size 432x288 with 1 Axes>"
      ]
     },
     "metadata": {
      "needs_background": "light"
     },
     "output_type": "display_data"
    }
   ],
   "source": [
    "X=np.array([[0,0,1,1,0,1,0,0],[0,1,0,1,0,0,1,0]])\n",
    "\n",
    "Y=np.array([[0,1,1,0,0,1,1,0]])\n",
    "\n",
    "X_t=np.array([[0,1,0],[0,0,1]])\n",
    "\n",
    "Y_t=np.array([0,1,0])\n",
    "\n",
    "w1,b1=intialize_with_zeros()\n",
    "parameters, grads, costs =optimize(w1, b1, X, Y, num_iterations=2000, learning_rate=0.005, print_cost=True)\n",
    "w1 = parameters[\"w1\"]\n",
    "b1 = parameters[\"b1\"]\n",
    "\n",
    "\n",
    "Y_prediction = predict(w1, b1, X)\n",
    "Y_prediction_t = predict(w1, b1, X_t)\n",
    "print(\"train accuracy: {} %\".format(100 - np.mean(np.abs(Y_prediction - Y)) * 100))\n",
    "print(\"test accuracy: {} %\".format(100 - np.mean(np.abs(Y_prediction_t - Y_t)) * 100))\n",
    "print(str(Y_prediction))\n",
    "print(str(Y_prediction_t))\n",
    "\n",
    "\n",
    "plt.plot(costs)"
   ]
  },
  {
   "cell_type": "markdown",
   "metadata": {},
   "source": []
  },
  {
   "cell_type": "code",
   "execution_count": null,
   "metadata": {},
   "outputs": [],
   "source": []
  }
 ],
 "metadata": {
  "kernelspec": {
   "display_name": "Python 3",
   "language": "python",
   "name": "python3"
  },
  "language_info": {
   "codemirror_mode": {
    "name": "ipython",
    "version": 3
   },
   "file_extension": ".py",
   "mimetype": "text/x-python",
   "name": "python",
   "nbconvert_exporter": "python",
   "pygments_lexer": "ipython3",
   "version": "3.8.5"
  }
 },
 "nbformat": 4,
 "nbformat_minor": 4
}
